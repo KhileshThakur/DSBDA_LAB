{
 "cells": [
  {
   "cell_type": "markdown",
   "id": "d8788b2c-7cc4-4b02-95c7-4050b713db22",
   "metadata": {},
   "source": [
    "# Dara Wrangling II\n",
    "Create an “Academic performance” dataset of students and perform the following operations using\n",
    "Python.\n",
    "1. Scan all variables for missing values and inconsistencies. If there are missing values and/or\n",
    "inconsistencies, use any of the suitable techniques to deal with them.\n",
    "2. Scan all numeric variables for outliers. If there are outliers, use any of the suitable techniques to deal\n",
    "with them.\n",
    "3. Apply data transformations on at least one of the variables. The purpose of this transformation should\n",
    "be one of the following reasons: to change the scale for better understanding of the variable, to convert a\n",
    "non-linear relation into a linear one, or to decrease the skewness and convert the distribution into a\n",
    "normal distribution.\n",
    "Reason and document your approach properly."
   ]
  },
  {
   "cell_type": "code",
   "execution_count": 1,
   "id": "58ce0e67-3f7a-4088-a510-21e145231b34",
   "metadata": {},
   "outputs": [],
   "source": [
    "import numpy as np\n",
    "import pandas as pd\n",
    "import random \n"
   ]
  },
  {
   "cell_type": "code",
   "execution_count": 3,
   "id": "b20025cd-3960-440f-a8e0-c68c249c0bb9",
   "metadata": {},
   "outputs": [
    {
     "data": {
      "text/html": [
       "<div>\n",
       "<style scoped>\n",
       "    .dataframe tbody tr th:only-of-type {\n",
       "        vertical-align: middle;\n",
       "    }\n",
       "\n",
       "    .dataframe tbody tr th {\n",
       "        vertical-align: top;\n",
       "    }\n",
       "\n",
       "    .dataframe thead th {\n",
       "        text-align: right;\n",
       "    }\n",
       "</style>\n",
       "<table border=\"1\" class=\"dataframe\">\n",
       "  <thead>\n",
       "    <tr style=\"text-align: right;\">\n",
       "      <th></th>\n",
       "      <th>Student ID</th>\n",
       "      <th>Student Name</th>\n",
       "      <th>Age</th>\n",
       "      <th>Total Marks</th>\n",
       "      <th>Gender</th>\n",
       "      <th>Division</th>\n",
       "    </tr>\n",
       "  </thead>\n",
       "  <tbody>\n",
       "    <tr>\n",
       "      <th>0</th>\n",
       "      <td>1</td>\n",
       "      <td>Stud 1</td>\n",
       "      <td>25.0</td>\n",
       "      <td>86.0</td>\n",
       "      <td>Male</td>\n",
       "      <td>B</td>\n",
       "    </tr>\n",
       "    <tr>\n",
       "      <th>1</th>\n",
       "      <td>2</td>\n",
       "      <td>Stud 2</td>\n",
       "      <td>23.0</td>\n",
       "      <td>1000.0</td>\n",
       "      <td>Female</td>\n",
       "      <td>C</td>\n",
       "    </tr>\n",
       "    <tr>\n",
       "      <th>2</th>\n",
       "      <td>3</td>\n",
       "      <td>Stud 3</td>\n",
       "      <td>20.0</td>\n",
       "      <td>3000.0</td>\n",
       "      <td>Female</td>\n",
       "      <td>B</td>\n",
       "    </tr>\n",
       "    <tr>\n",
       "      <th>3</th>\n",
       "      <td>4</td>\n",
       "      <td>Stud 4</td>\n",
       "      <td>22.0</td>\n",
       "      <td>5000.0</td>\n",
       "      <td>Male</td>\n",
       "      <td>A</td>\n",
       "    </tr>\n",
       "    <tr>\n",
       "      <th>4</th>\n",
       "      <td>5</td>\n",
       "      <td>Stud 5</td>\n",
       "      <td>21.0</td>\n",
       "      <td>36.0</td>\n",
       "      <td>Male</td>\n",
       "      <td>D</td>\n",
       "    </tr>\n",
       "    <tr>\n",
       "      <th>...</th>\n",
       "      <td>...</td>\n",
       "      <td>...</td>\n",
       "      <td>...</td>\n",
       "      <td>...</td>\n",
       "      <td>...</td>\n",
       "      <td>...</td>\n",
       "    </tr>\n",
       "    <tr>\n",
       "      <th>95</th>\n",
       "      <td>96</td>\n",
       "      <td>Stud 96</td>\n",
       "      <td>21.0</td>\n",
       "      <td>39.0</td>\n",
       "      <td>Female</td>\n",
       "      <td>C</td>\n",
       "    </tr>\n",
       "    <tr>\n",
       "      <th>96</th>\n",
       "      <td>97</td>\n",
       "      <td>Stud 97</td>\n",
       "      <td>24.0</td>\n",
       "      <td>34.0</td>\n",
       "      <td>Male</td>\n",
       "      <td>D</td>\n",
       "    </tr>\n",
       "    <tr>\n",
       "      <th>97</th>\n",
       "      <td>98</td>\n",
       "      <td>Stud 98</td>\n",
       "      <td>25.0</td>\n",
       "      <td>25.0</td>\n",
       "      <td>Male</td>\n",
       "      <td>D</td>\n",
       "    </tr>\n",
       "    <tr>\n",
       "      <th>98</th>\n",
       "      <td>99</td>\n",
       "      <td>Stud 99</td>\n",
       "      <td>21.0</td>\n",
       "      <td>72.0</td>\n",
       "      <td>Male</td>\n",
       "      <td>B</td>\n",
       "    </tr>\n",
       "    <tr>\n",
       "      <th>99</th>\n",
       "      <td>100</td>\n",
       "      <td>Stud 100</td>\n",
       "      <td>24.0</td>\n",
       "      <td>55.0</td>\n",
       "      <td>Female</td>\n",
       "      <td>A</td>\n",
       "    </tr>\n",
       "  </tbody>\n",
       "</table>\n",
       "<p>100 rows × 6 columns</p>\n",
       "</div>"
      ],
      "text/plain": [
       "    Student ID Student Name   Age  Total Marks  Gender Division\n",
       "0            1       Stud 1  25.0         86.0    Male        B\n",
       "1            2       Stud 2  23.0       1000.0  Female        C\n",
       "2            3       Stud 3  20.0       3000.0  Female        B\n",
       "3            4       Stud 4  22.0       5000.0    Male        A\n",
       "4            5       Stud 5  21.0         36.0    Male        D\n",
       "..         ...          ...   ...          ...     ...      ...\n",
       "95          96      Stud 96  21.0         39.0  Female        C\n",
       "96          97      Stud 97  24.0         34.0    Male        D\n",
       "97          98      Stud 98  25.0         25.0    Male        D\n",
       "98          99      Stud 99  21.0         72.0    Male        B\n",
       "99         100     Stud 100  24.0         55.0  Female        A\n",
       "\n",
       "[100 rows x 6 columns]"
      ]
     },
     "execution_count": 3,
     "metadata": {},
     "output_type": "execute_result"
    }
   ],
   "source": [
    "student_id = range(1, 101)\n",
    "student_name = ['Stud ' + str(i) for i in student_id]\n",
    "age = [random.randint(20, 25) for i in student_id]\n",
    "total_marks = [random.randint(20, 99) for i in student_id]\n",
    "gender = [random.choice(['Male', 'Female']) for i in student_id]\n",
    "division = [random.choice(['A', 'B', 'C', 'D']) for i in student_id]\n",
    "\n",
    "dataset = pd.DataFrame({\"Student ID\" : student_id, \n",
    "                        \"Student Name\": student_name, \n",
    "                        \"Age\" : age , \n",
    "                        \"Total Marks\": total_marks, \n",
    "                        \"Gender\" : gender , \n",
    "                        \"Division\": division})\n",
    "nulls = 5\n",
    "while nulls > 0:\n",
    "    idx = random.randint(1, 100)\n",
    "    dataset.at[idx, 'Total Marks'] = np.nan \n",
    "    dataset.at[idx+2, 'Age'] = np.nan\n",
    "    nulls -= 1\n",
    "\n",
    "dataset.iat[1, 3] = 1000\n",
    "dataset.iat[2, 3] = 3000\n",
    "dataset.iat[3, 3] = 5000\n",
    "dataset"
   ]
  },
  {
   "cell_type": "markdown",
   "id": "66fb620e-7677-475e-a5cd-46509d44e2b3",
   "metadata": {},
   "source": [
    "### 1. Scan all variables for missing values and inconsistencies. If there are missing values and/or inconsistencies, use any of the suitable techniques to deal with them."
   ]
  },
  {
   "cell_type": "code",
   "execution_count": 5,
   "id": "d20c5fa1-58db-40c6-bf09-b6f2959089fb",
   "metadata": {},
   "outputs": [
    {
     "data": {
      "text/plain": [
       "Student ID      0\n",
       "Student Name    0\n",
       "Age             5\n",
       "Total Marks     5\n",
       "Gender          0\n",
       "Division        0\n",
       "dtype: int64"
      ]
     },
     "execution_count": 5,
     "metadata": {},
     "output_type": "execute_result"
    }
   ],
   "source": [
    "dataset.isna().sum()"
   ]
  },
  {
   "cell_type": "code",
   "execution_count": 6,
   "id": "f350ef6b-3c3d-4fb7-aa0e-7cdabf698691",
   "metadata": {},
   "outputs": [
    {
     "data": {
      "text/html": [
       "<div>\n",
       "<style scoped>\n",
       "    .dataframe tbody tr th:only-of-type {\n",
       "        vertical-align: middle;\n",
       "    }\n",
       "\n",
       "    .dataframe tbody tr th {\n",
       "        vertical-align: top;\n",
       "    }\n",
       "\n",
       "    .dataframe thead th {\n",
       "        text-align: right;\n",
       "    }\n",
       "</style>\n",
       "<table border=\"1\" class=\"dataframe\">\n",
       "  <thead>\n",
       "    <tr style=\"text-align: right;\">\n",
       "      <th></th>\n",
       "      <th>Student ID</th>\n",
       "      <th>Student Name</th>\n",
       "      <th>Age</th>\n",
       "      <th>Total Marks</th>\n",
       "      <th>Gender</th>\n",
       "      <th>Division</th>\n",
       "    </tr>\n",
       "  </thead>\n",
       "  <tbody>\n",
       "    <tr>\n",
       "      <th>0</th>\n",
       "      <td>1</td>\n",
       "      <td>Stud 1</td>\n",
       "      <td>25.0</td>\n",
       "      <td>86.0</td>\n",
       "      <td>Male</td>\n",
       "      <td>B</td>\n",
       "    </tr>\n",
       "    <tr>\n",
       "      <th>1</th>\n",
       "      <td>2</td>\n",
       "      <td>Stud 2</td>\n",
       "      <td>23.0</td>\n",
       "      <td>1000.0</td>\n",
       "      <td>Female</td>\n",
       "      <td>C</td>\n",
       "    </tr>\n",
       "    <tr>\n",
       "      <th>2</th>\n",
       "      <td>3</td>\n",
       "      <td>Stud 3</td>\n",
       "      <td>20.0</td>\n",
       "      <td>3000.0</td>\n",
       "      <td>Female</td>\n",
       "      <td>B</td>\n",
       "    </tr>\n",
       "    <tr>\n",
       "      <th>3</th>\n",
       "      <td>4</td>\n",
       "      <td>Stud 4</td>\n",
       "      <td>22.0</td>\n",
       "      <td>5000.0</td>\n",
       "      <td>Male</td>\n",
       "      <td>A</td>\n",
       "    </tr>\n",
       "    <tr>\n",
       "      <th>4</th>\n",
       "      <td>5</td>\n",
       "      <td>Stud 5</td>\n",
       "      <td>21.0</td>\n",
       "      <td>36.0</td>\n",
       "      <td>Male</td>\n",
       "      <td>D</td>\n",
       "    </tr>\n",
       "    <tr>\n",
       "      <th>...</th>\n",
       "      <td>...</td>\n",
       "      <td>...</td>\n",
       "      <td>...</td>\n",
       "      <td>...</td>\n",
       "      <td>...</td>\n",
       "      <td>...</td>\n",
       "    </tr>\n",
       "    <tr>\n",
       "      <th>95</th>\n",
       "      <td>96</td>\n",
       "      <td>Stud 96</td>\n",
       "      <td>21.0</td>\n",
       "      <td>39.0</td>\n",
       "      <td>Female</td>\n",
       "      <td>C</td>\n",
       "    </tr>\n",
       "    <tr>\n",
       "      <th>96</th>\n",
       "      <td>97</td>\n",
       "      <td>Stud 97</td>\n",
       "      <td>24.0</td>\n",
       "      <td>34.0</td>\n",
       "      <td>Male</td>\n",
       "      <td>D</td>\n",
       "    </tr>\n",
       "    <tr>\n",
       "      <th>97</th>\n",
       "      <td>98</td>\n",
       "      <td>Stud 98</td>\n",
       "      <td>25.0</td>\n",
       "      <td>25.0</td>\n",
       "      <td>Male</td>\n",
       "      <td>D</td>\n",
       "    </tr>\n",
       "    <tr>\n",
       "      <th>98</th>\n",
       "      <td>99</td>\n",
       "      <td>Stud 99</td>\n",
       "      <td>21.0</td>\n",
       "      <td>72.0</td>\n",
       "      <td>Male</td>\n",
       "      <td>B</td>\n",
       "    </tr>\n",
       "    <tr>\n",
       "      <th>99</th>\n",
       "      <td>100</td>\n",
       "      <td>Stud 100</td>\n",
       "      <td>24.0</td>\n",
       "      <td>55.0</td>\n",
       "      <td>Female</td>\n",
       "      <td>A</td>\n",
       "    </tr>\n",
       "  </tbody>\n",
       "</table>\n",
       "<p>100 rows × 6 columns</p>\n",
       "</div>"
      ],
      "text/plain": [
       "    Student ID Student Name   Age  Total Marks  Gender Division\n",
       "0            1       Stud 1  25.0         86.0    Male        B\n",
       "1            2       Stud 2  23.0       1000.0  Female        C\n",
       "2            3       Stud 3  20.0       3000.0  Female        B\n",
       "3            4       Stud 4  22.0       5000.0    Male        A\n",
       "4            5       Stud 5  21.0         36.0    Male        D\n",
       "..         ...          ...   ...          ...     ...      ...\n",
       "95          96      Stud 96  21.0         39.0  Female        C\n",
       "96          97      Stud 97  24.0         34.0    Male        D\n",
       "97          98      Stud 98  25.0         25.0    Male        D\n",
       "98          99      Stud 99  21.0         72.0    Male        B\n",
       "99         100     Stud 100  24.0         55.0  Female        A\n",
       "\n",
       "[100 rows x 6 columns]"
      ]
     },
     "execution_count": 6,
     "metadata": {},
     "output_type": "execute_result"
    }
   ],
   "source": [
    "dataset['Total Marks'] = dataset['Total Marks'].fillna(dataset['Total Marks'].mean())\n",
    "dataset['Age'] = dataset['Age'].fillna(dataset['Age'].median())\n",
    "dataset"
   ]
  },
  {
   "cell_type": "code",
   "execution_count": 7,
   "id": "a86bad07-595f-4817-95ba-63fb05dae7f2",
   "metadata": {},
   "outputs": [
    {
     "data": {
      "text/plain": [
       "Student ID      0\n",
       "Student Name    0\n",
       "Age             0\n",
       "Total Marks     0\n",
       "Gender          0\n",
       "Division        0\n",
       "dtype: int64"
      ]
     },
     "execution_count": 7,
     "metadata": {},
     "output_type": "execute_result"
    }
   ],
   "source": [
    "dataset.isna().sum()"
   ]
  },
  {
   "cell_type": "markdown",
   "id": "0b4bf8e2-b43f-4aa1-a41d-4ac92108fc02",
   "metadata": {},
   "source": [
    "### 2. Scan all numeric variables for outliers. If there are outliers, use any of the suitable techniques to deal with them."
   ]
  },
  {
   "cell_type": "code",
   "execution_count": 8,
   "id": "2af4ddda-1d45-48f5-8dd0-3bd7be9ee782",
   "metadata": {},
   "outputs": [
    {
     "data": {
      "image/png": "[encoded data removed]",
      "text/plain": [
       "<Figure size 640x480 with 1 Axes>"
      ]
     },
     "metadata": {},
     "output_type": "display_data"
    }
   ],
   "source": [
    "import matplotlib.pyplot as plt\n",
    "plt.boxplot(x=[dataset[\"Total Marks\"]])\n",
    "plt.show()"
   ]
  },
  {
   "cell_type": "code",
   "execution_count": 9,
   "id": "1d1fa3e7-b0d5-4a5f-99b8-2e7ed3ef9358",
   "metadata": {},
   "outputs": [
    {
     "data": {
      "image/png": "[encoded data removed]",
      "text/plain": [
       "<Figure size 640x480 with 1 Axes>"
      ]
     },
     "metadata": {},
     "output_type": "display_data"
    }
   ],
   "source": [
    "ndataset = dataset[dataset[\"Total Marks\"]<100]\n",
    "plt.boxplot(x=ndataset[\"Total Marks\"])\n",
    "plt.show()\n"
   ]
  },
  {
   "cell_type": "markdown",
   "id": "dc9c8f85-b30b-4b94-843f-ead8d8e66bd7",
   "metadata": {},
   "source": [
    "### 3. Apply data transformations on at least one of the variables. The purpose of this transformation should be one of the following reasons: to change the scale for better understanding of the variable, to convert a non-linear relation into a linear one, or to decrease the skewness and convert the distribution into a normal distribution. Reason and document your approach properly."
   ]
  },
  {
   "cell_type": "code",
   "execution_count": 12,
   "id": "e49486e8-19dc-456d-a10e-c459cd8078cf",
   "metadata": {},
   "outputs": [
    {
     "data": {
      "text/html": [
       "<div>\n",
       "<style scoped>\n",
       "    .dataframe tbody tr th:only-of-type {\n",
       "        vertical-align: middle;\n",
       "    }\n",
       "\n",
       "    .dataframe tbody tr th {\n",
       "        vertical-align: top;\n",
       "    }\n",
       "\n",
       "    .dataframe thead th {\n",
       "        text-align: right;\n",
       "    }\n",
       "</style>\n",
       "<table border=\"1\" class=\"dataframe\">\n",
       "  <thead>\n",
       "    <tr style=\"text-align: right;\">\n",
       "      <th></th>\n",
       "      <th>Student ID</th>\n",
       "      <th>Student Name</th>\n",
       "      <th>Age</th>\n",
       "      <th>Total Marks</th>\n",
       "      <th>Gender</th>\n",
       "      <th>Division</th>\n",
       "    </tr>\n",
       "  </thead>\n",
       "  <tbody>\n",
       "    <tr>\n",
       "      <th>0</th>\n",
       "      <td>1</td>\n",
       "      <td>Stud 1</td>\n",
       "      <td>25.0</td>\n",
       "      <td>86.0</td>\n",
       "      <td>Male</td>\n",
       "      <td>B</td>\n",
       "    </tr>\n",
       "    <tr>\n",
       "      <th>1</th>\n",
       "      <td>2</td>\n",
       "      <td>Stud 2</td>\n",
       "      <td>23.0</td>\n",
       "      <td>1000.0</td>\n",
       "      <td>Female</td>\n",
       "      <td>C</td>\n",
       "    </tr>\n",
       "    <tr>\n",
       "      <th>2</th>\n",
       "      <td>3</td>\n",
       "      <td>Stud 3</td>\n",
       "      <td>20.0</td>\n",
       "      <td>3000.0</td>\n",
       "      <td>Female</td>\n",
       "      <td>B</td>\n",
       "    </tr>\n",
       "    <tr>\n",
       "      <th>3</th>\n",
       "      <td>4</td>\n",
       "      <td>Stud 4</td>\n",
       "      <td>22.0</td>\n",
       "      <td>5000.0</td>\n",
       "      <td>Male</td>\n",
       "      <td>A</td>\n",
       "    </tr>\n",
       "    <tr>\n",
       "      <th>4</th>\n",
       "      <td>5</td>\n",
       "      <td>Stud 5</td>\n",
       "      <td>21.0</td>\n",
       "      <td>36.0</td>\n",
       "      <td>Male</td>\n",
       "      <td>D</td>\n",
       "    </tr>\n",
       "    <tr>\n",
       "      <th>...</th>\n",
       "      <td>...</td>\n",
       "      <td>...</td>\n",
       "      <td>...</td>\n",
       "      <td>...</td>\n",
       "      <td>...</td>\n",
       "      <td>...</td>\n",
       "    </tr>\n",
       "    <tr>\n",
       "      <th>95</th>\n",
       "      <td>96</td>\n",
       "      <td>Stud 96</td>\n",
       "      <td>21.0</td>\n",
       "      <td>39.0</td>\n",
       "      <td>Female</td>\n",
       "      <td>C</td>\n",
       "    </tr>\n",
       "    <tr>\n",
       "      <th>96</th>\n",
       "      <td>97</td>\n",
       "      <td>Stud 97</td>\n",
       "      <td>24.0</td>\n",
       "      <td>34.0</td>\n",
       "      <td>Male</td>\n",
       "      <td>D</td>\n",
       "    </tr>\n",
       "    <tr>\n",
       "      <th>97</th>\n",
       "      <td>98</td>\n",
       "      <td>Stud 98</td>\n",
       "      <td>25.0</td>\n",
       "      <td>25.0</td>\n",
       "      <td>Male</td>\n",
       "      <td>D</td>\n",
       "    </tr>\n",
       "    <tr>\n",
       "      <th>98</th>\n",
       "      <td>99</td>\n",
       "      <td>Stud 99</td>\n",
       "      <td>21.0</td>\n",
       "      <td>72.0</td>\n",
       "      <td>Male</td>\n",
       "      <td>B</td>\n",
       "    </tr>\n",
       "    <tr>\n",
       "      <th>99</th>\n",
       "      <td>100</td>\n",
       "      <td>Stud 100</td>\n",
       "      <td>24.0</td>\n",
       "      <td>55.0</td>\n",
       "      <td>Female</td>\n",
       "      <td>A</td>\n",
       "    </tr>\n",
       "  </tbody>\n",
       "</table>\n",
       "<p>100 rows × 6 columns</p>\n",
       "</div>"
      ],
      "text/plain": [
       "    Student ID Student Name   Age  Total Marks  Gender Division\n",
       "0            1       Stud 1  25.0         86.0    Male        B\n",
       "1            2       Stud 2  23.0       1000.0  Female        C\n",
       "2            3       Stud 3  20.0       3000.0  Female        B\n",
       "3            4       Stud 4  22.0       5000.0    Male        A\n",
       "4            5       Stud 5  21.0         36.0    Male        D\n",
       "..         ...          ...   ...          ...     ...      ...\n",
       "95          96      Stud 96  21.0         39.0  Female        C\n",
       "96          97      Stud 97  24.0         34.0    Male        D\n",
       "97          98      Stud 98  25.0         25.0    Male        D\n",
       "98          99      Stud 99  21.0         72.0    Male        B\n",
       "99         100     Stud 100  24.0         55.0  Female        A\n",
       "\n",
       "[100 rows x 6 columns]"
      ]
     },
     "execution_count": 12,
     "metadata": {},
     "output_type": "execute_result"
    }
   ],
   "source": [
    "dataset"
   ]
  },
  {
   "cell_type": "markdown",
   "id": "f37aaae1-2099-452a-a12f-e2c0d1cf9bae",
   "metadata": {},
   "source": [
    "#### Scaling"
   ]
  },
  {
   "cell_type": "code",
   "execution_count": 32,
   "id": "d60fffc3-d1d9-42d1-9a1e-0e5246437b5a",
   "metadata": {},
   "outputs": [
    {
     "data": {
      "text/plain": [
       "<Axes: xlabel='Total Marks', ylabel='Count'>"
      ]
     },
     "execution_count": 32,
     "metadata": {},
     "output_type": "execute_result"
    },
    {
     "data": {
      "image/png": "[encoded data removed]",
      "text/plain": [
       "<Figure size 640x480 with 1 Axes>"
      ]
     },
     "metadata": {},
     "output_type": "display_data"
    }
   ],
   "source": [
    "import seaborn as sns\n",
    "sns.histplot(x='Total Marks', data = ndataset, bins=10)"
   ]
  },
  {
   "cell_type": "code",
   "execution_count": 34,
   "id": "b56a0ab5-0707-471b-8ba0-215848f1e3ef",
   "metadata": {},
   "outputs": [
    {
     "data": {
      "text/plain": [
       "0     4.454347\n",
       "4     3.583519\n",
       "5     3.526361\n",
       "6     4.127134\n",
       "7     4.418841\n",
       "        ...   \n",
       "95    3.663562\n",
       "96    3.526361\n",
       "97    3.218876\n",
       "98    4.276666\n",
       "99    4.007333\n",
       "Name: Total Marks, Length: 92, dtype: float64"
      ]
     },
     "execution_count": 34,
     "metadata": {},
     "output_type": "execute_result"
    },
    {
     "data": {
      "image/png": "[encoded data removed]",
      "text/plain": [
       "<Figure size 640x480 with 1 Axes>"
      ]
     },
     "metadata": {},
     "output_type": "display_data"
    }
   ],
   "source": [
    "datalog = np.log(ndataset[\"Total Marks\"])\n",
    "sns.histplot(x=datalog, data = ndataset, bins=10)\n",
    "datalog"
   ]
  }
 ],
 "metadata": {
  "kernelspec": {
   "display_name": "Python 3 (ipykernel)",
   "language": "python",
   "name": "python3"
  },
  "language_info": {
   "codemirror_mode": {
    "name": "ipython",
    "version": 3
   },
   "file_extension": ".py",
   "mimetype": "text/x-python",
   "name": "python",
   "nbconvert_exporter": "python",
   "pygments_lexer": "ipython3",
   "version": "3.10.4"
  }
 },
 "nbformat": 4,
 "nbformat_minor": 5
}
